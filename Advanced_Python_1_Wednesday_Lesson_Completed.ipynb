{
  "cells": [
    {
      "cell_type": "markdown",
      "metadata": {
        "id": "6CWTVFmn_Mve"
      },
      "source": [
        "# Map, Filter, Reduce, Lambda & Recursion"
      ]
    },
    {
      "attachments": {},
      "cell_type": "markdown",
      "metadata": {
        "id": "sBZJzyxj_Mvi"
      },
      "source": [
        "## Tasks Today:\n",
        "\n",
        "1) <b>Lambda Functions</b> <br>\n",
        " &nbsp;&nbsp;&nbsp;&nbsp; a) Syntax <br>\n",
        " &nbsp;&nbsp;&nbsp;&nbsp; b) Saving to a Variable <br>\n",
        " &nbsp;&nbsp;&nbsp;&nbsp; c) Multiple Inputs <br>\n",
        " &nbsp;&nbsp;&nbsp;&nbsp; d) Passing a Lambda into a Function <br>\n",
        " &nbsp;&nbsp;&nbsp;&nbsp; e) Returning a Lambda from a Function <br>\n",
        " &nbsp;&nbsp;&nbsp;&nbsp; f) In-Class Exercise #1 <br>\n",
        "2) <b>Map</b> <br>\n",
        " &nbsp;&nbsp;&nbsp;&nbsp; a) Syntax <br>\n",
        " &nbsp;&nbsp;&nbsp;&nbsp; b) Using Lambda's with Map <br>\n",
        " &nbsp;&nbsp;&nbsp;&nbsp; c) In-Class Exercise #2 <br>\n",
        "3) <b>Filter</b> <br>\n",
        " &nbsp;&nbsp;&nbsp;&nbsp; a) Syntax <br>\n",
        " &nbsp;&nbsp;&nbsp;&nbsp; b) Using Lambda's with Filter <br>\n",
        " &nbsp;&nbsp;&nbsp;&nbsp; c) In-Class Exercise #3 <br>\n",
        "4) <b>Recursion</b> <br>\n",
        " &nbsp;&nbsp;&nbsp;&nbsp; a) Implementing a Base <br>\n",
        " &nbsp;&nbsp;&nbsp;&nbsp; b) Writing a Factorial Function <br>\n",
        " &nbsp;&nbsp;&nbsp;&nbsp; c) In-Class Exercise #4 <br>\n",
        "5) <b>Generators & Iterators</b> <br>\n",
        " &nbsp;&nbsp;&nbsp;&nbsp; a) Yield Keyword <br>\n",
        " &nbsp;&nbsp;&nbsp;&nbsp; b) Inifinite Generator <br>\n",
        " &nbsp;&nbsp;&nbsp;&nbsp; c) In-Class Exercise #5 <br>\n",
        "6) <b>Exercises</b> <br>\n",
        " &nbsp;&nbsp;&nbsp;&nbsp; a) Exercise #1 - Filtering Empty Strings <br>\n",
        " &nbsp;&nbsp;&nbsp;&nbsp; b) Exercise #2 - Sorting with Last Name <br>\n",
        " &nbsp;&nbsp;&nbsp;&nbsp; c) Exercise #3 - Conversion to Farhenheit <br>\n",
        " &nbsp;&nbsp;&nbsp;&nbsp; d) Exercise #4 - Fibonacci Sequence <br>"
      ]
    },
    {
      "cell_type": "markdown",
      "metadata": {
        "id": "zv3SnIM0_Mvj"
      },
      "source": [
        "## Lambda Functions <br>\n",
        "<p>Lambda functions... or \"Anonymous Functions\" are referring to inline functions with no name. The keyword lambda denotes the no name function, and executes within a single line. Without saving it to a variable; however, it is not able to be used, unless passed in either as a paramater or within list comprehension.<br>Written as \"(keyword lambda) (one or more inputs) (colon) (function to be executed)\"</p>"
      ]
    },
    {
      "cell_type": "markdown",
      "metadata": {
        "id": "RU6TAdoo_Mvk"
      },
      "source": [
        "#### Syntax"
      ]
    },
    {
      "cell_type": "code",
      "execution_count": 2,
      "metadata": {
        "id": "lepRXkqx_Mvk"
      },
      "outputs": [
        {
          "name": "stdout",
          "output_type": "stream",
          "text": [
            "6\n",
            "6\n"
          ]
        }
      ],
      "source": [
        "def addTwo(x):\n",
        "    return x + 2\n",
        "\n",
        "print(addTwo(4))\n",
        "\n",
        "# Lambda function syntax\n",
        "a_var = 4\n",
        "print((lambda x: x+2)(a_var))"
      ]
    },
    {
      "cell_type": "markdown",
      "metadata": {
        "id": "z3yd8V5q_Mvl"
      },
      "source": [
        "#### Saving to a Variable"
      ]
    },
    {
      "cell_type": "code",
      "execution_count": 1,
      "metadata": {
        "id": "PH1dgTHI_Mvl"
      },
      "outputs": [
        {
          "data": {
            "text/plain": [
              "6"
            ]
          },
          "execution_count": 1,
          "metadata": {},
          "output_type": "execute_result"
        }
      ],
      "source": [
        "f_test = lambda x: x+2\n",
        "f_test(4)"
      ]
    },
    {
      "cell_type": "markdown",
      "metadata": {
        "id": "LEnhQ206_Mvl"
      },
      "source": [
        "#### Multiple Inputs"
      ]
    },
    {
      "cell_type": "code",
      "execution_count": 4,
      "metadata": {
        "id": "yhz4e8oc_Mvm"
      },
      "outputs": [
        {
          "name": "stdout",
          "output_type": "stream",
          "text": [
            "120\n",
            "120\n"
          ]
        }
      ],
      "source": [
        "# Multiple inputs with no variable\n",
        "print((lambda x,y,z: x * y * z)(3,5,8))\n",
        "\n",
        "x_test = lambda x,y,z: x*y*z\n",
        "print(x_test(3,5,8))"
      ]
    },
    {
      "cell_type": "markdown",
      "metadata": {
        "id": "0rAdEh_O_Mvm"
      },
      "source": [
        "#### Passing a Lambda into a Function"
      ]
    },
    {
      "cell_type": "code",
      "execution_count": 5,
      "metadata": {
        "id": "YMH292Cx_Mvm"
      },
      "outputs": [
        {
          "data": {
            "text/plain": [
              "16"
            ]
          },
          "execution_count": 5,
          "metadata": {},
          "output_type": "execute_result"
        }
      ],
      "source": [
        "def multiply(f, num):\n",
        "    \"\"\"\n",
        "    f expects a lambda function\n",
        "    num expects a number\n",
        "    \"\"\"\n",
        "    return f(num)\n",
        "multiply(lambda x: x*x, 4)"
      ]
    },
    {
      "cell_type": "markdown",
      "metadata": {
        "id": "ZLGVscCG_Mvn"
      },
      "source": [
        "#### Returning a Lambda from a Function"
      ]
    },
    {
      "cell_type": "code",
      "execution_count": 11,
      "metadata": {
        "id": "QKwjPC7n_Mvn"
      },
      "outputs": [
        {
          "name": "stdout",
          "output_type": "stream",
          "text": [
            "<function returnFunc.<locals>.multiply at 0x000001F91F0FE710>\n",
            "8\n",
            "<function returnLam.<locals>.<lambda> at 0x000001F91F291360>\n",
            "19\n"
          ]
        }
      ],
      "source": [
        "def multiply_test(num):\n",
        "    return num*4\n",
        "\n",
        "# Function in a function\n",
        "\n",
        "def returnFunc():\n",
        "    test = 4\n",
        "    def multiply(num):\n",
        "        return num*2\n",
        "    return multiply\n",
        "\n",
        "f_return = returnFunc()\n",
        "print(f_return)\n",
        "print(f_return(4))\n",
        "\n",
        "# Lambda function return from a regular function\n",
        "def returnLam(b,c):\n",
        "    return lambda x,a: x+a+b+c\n",
        "r_lamb = returnLam(4,5)\n",
        "print(r_lamb)\n",
        "print(r_lamb(5,5))"
      ]
    },
    {
      "cell_type": "markdown",
      "metadata": {
        "id": "WGTdhTpo_Mvn"
      },
      "source": [
        "#### If Statements within Lambdas"
      ]
    },
    {
      "cell_type": "code",
      "execution_count": 13,
      "metadata": {
        "id": "TYYHh_mD_Mvn"
      },
      "outputs": [
        {
          "name": "stdout",
          "output_type": "stream",
          "text": [
            "10\n",
            "40\n"
          ]
        }
      ],
      "source": [
        "# Lambda x: True if (condition) else False\n",
        "f_condition = lambda num:num *2 if num >10 else num+2\n",
        "\n",
        "print(f_condition(8))\n",
        "print(f_condition(20))"
      ]
    },
    {
      "cell_type": "markdown",
      "metadata": {
        "id": "Va27c3uJ_Mvn"
      },
      "source": [
        "#### In-Class Exercise #1 <br>\n",
        "<p>Write an anonymous function that cubes the arguments passed in and assign the anonymous function to a variable 'f'.</p>"
      ]
    },
    {
      "cell_type": "code",
      "execution_count": 3,
      "metadata": {
        "id": "Daf-1bIP_Mvo"
      },
      "outputs": [
        {
          "name": "stdout",
          "output_type": "stream",
          "text": [
            "8\n"
          ]
        }
      ],
      "source": [
        "f = lambda x: x ** 3\n",
        "print (f(2))"
      ]
    },
    {
      "cell_type": "markdown",
      "metadata": {
        "id": "yJJUgxKC_Mvo"
      },
      "source": [
        "## Map <br>\n",
        "<p>The map function allows you to iterate over an entire list while running a function on each item of the list. This is why the map function works well with lambda's, because it simplifies things and you write less lines of code.<br>The syntax for a map function is \"map(function to be used, list to be used)\"<br>However, you must be careful, as the map function returns a map object, not a list. To turn it into a list we use the list() type conversion.</p>"
      ]
    },
    {
      "cell_type": "markdown",
      "metadata": {
        "id": "Xt_Jq1tZ_Mvo"
      },
      "source": [
        "#### Syntax"
      ]
    },
    {
      "cell_type": "code",
      "execution_count": 14,
      "metadata": {
        "id": "TGgEI05r_Mvo"
      },
      "outputs": [
        {
          "name": "stdout",
          "output_type": "stream",
          "text": [
            "[(16, 16), (11, 10), (20, 3), (9, 4), (15, 6)]\n"
          ]
        }
      ],
      "source": [
        "\"\"\"\n",
        "map(function,iterable)\n",
        "an iterable is something you can loop over; such as a list, dict, tuple, set orstring\n",
        "Normally, the usage of map happens with a pre-defined function, but we can use lambdas as well\n",
        "\"\"\"\n",
        "def squared(num, num2):\n",
        "    if num <10 and num2 < 10:\n",
        "        return num**2, num2**2\n",
        "    else:\n",
        "        return num, num2\n",
        "numbers = [4,11,20,3,15,20]\n",
        "more_nums = [4,10,3,2,6]\n",
        "\n",
        "squared_nums_map = list(map(squared, numbers, more_nums))\n",
        "print(squared_nums_map)"
      ]
    },
    {
      "cell_type": "markdown",
      "metadata": {
        "id": "AjWn3RPM_Mvo"
      },
      "source": [
        "#### Using Lambda's with Map"
      ]
    },
    {
      "cell_type": "code",
      "execution_count": 15,
      "metadata": {
        "id": "yKj7455A_Mvp"
      },
      "outputs": [
        {
          "name": "stdout",
          "output_type": "stream",
          "text": [
            "[(16, 16), (11, 10), (20, 3), (9, 4), (15, 6)]\n"
          ]
        }
      ],
      "source": [
        "\"\"\"\n",
        "map(lambda x: do something, iterable)\n",
        "using lambda in map usually all takes place on one line\n",
        "\"\"\"\n",
        "squared_nums_lamb = list(map(lambda x,y: (x**2, y**2) if x <10 and y<10 else (x,y), numbers, more_nums))\n",
        "print(squared_nums_lamb)"
      ]
    },
    {
      "cell_type": "markdown",
      "metadata": {
        "id": "gwStMhKG_Mvp"
      },
      "source": [
        "#### In-Class Exercise #2 <br>\n",
        "<p>Use the map function to double each number and minus it by one in the list by using a lambda function</p>"
      ]
    },
    {
      "cell_type": "code",
      "execution_count": 7,
      "metadata": {
        "id": "bwnXQjML_Mvp"
      },
      "outputs": [
        {
          "name": "stdout",
          "output_type": "stream",
          "text": [
            "[3, 15, 23, 33]\n"
          ]
        }
      ],
      "source": [
        "num_list = [2, 8, 12, 17]\n",
        "\n",
        "double_minus_one = list(map(lambda x: (x * 2)- 1, num_list))\n",
        "\n",
        "print(double_minus_one)\n"
      ]
    },
    {
      "cell_type": "markdown",
      "metadata": {
        "id": "1yP5tS-5_Mvp"
      },
      "source": [
        "## Filter() <br>\n",
        "<p>Filter's are similar to the map function, where you're able to pass a function argument and a list argument and filter out something from the list based on the conditions passed. Similar to the map function, it returns a filter object, so you need to type convert it to a list()</p>"
      ]
    },
    {
      "cell_type": "markdown",
      "metadata": {
        "id": "-4E29XVC_Mvp"
      },
      "source": [
        "#### Syntax"
      ]
    },
    {
      "cell_type": "code",
      "execution_count": 6,
      "metadata": {
        "id": "HUjqkTZ2_Mvp"
      },
      "outputs": [
        {
          "name": "stdout",
          "output_type": "stream",
          "text": [
            "['Andy', 'Angelica']\n"
          ]
        }
      ],
      "source": [
        "# list(filter(function, iterable))\n",
        "names = ['Bob', 'Andy', 'Max', 'Evan', 'Angelica']\n",
        "\n",
        "def a_names(name):\n",
        "    if name[0].lower() == 'a':\n",
        "        return True\n",
        "    else: \n",
        "        return False\n",
        "\n",
        "new_names_list = list(filter(a_names,names))\n",
        "print(new_names_list)"
      ]
    },
    {
      "cell_type": "markdown",
      "metadata": {
        "id": "OPzBC9Cb_Mvp"
      },
      "source": [
        "#### Using Lambda's with Filter()"
      ]
    },
    {
      "cell_type": "code",
      "execution_count": 7,
      "metadata": {
        "id": "zjxgmw9T_Mvq"
      },
      "outputs": [
        {
          "name": "stdout",
          "output_type": "stream",
          "text": [
            "['Andy', 'Angelica']\n"
          ]
        }
      ],
      "source": [
        "new_names_lamb = list(filter(lambda name: True if name[0].lower() == 'a' else False, names))\n",
        "print(new_names_lamb)"
      ]
    },
    {
      "cell_type": "markdown",
      "metadata": {
        "id": "Fih1P0Cy_Mvq"
      },
      "source": [
        "#### In-Class Exercise #3 <br>\n",
        "<p>Filter out all the numbers that are below the mean of the list.<br><b>Hint: Import the 'statistics' module</b></p>"
      ]
    },
    {
      "cell_type": "code",
      "execution_count": 18,
      "metadata": {
        "id": "l4ZWP74-_Mvq"
      },
      "outputs": [
        {
          "name": "stdout",
          "output_type": "stream",
          "text": [
            "[4, 8, 16, 20, 2]\n"
          ]
        }
      ],
      "source": [
        "#1 way\n",
        "import statistics\n",
        "\n",
        "num_list = [4, 8, 16, 20, 32, 2, 97]\n",
        "filtered_nums = list(filter(lambda x: x < mean, num_list))\n",
        "print(filtered_nums)\n",
        "\n",
        "# another way\n",
        "\n",
        "import numpy as np\n",
        "import statistics\n",
        "print(sum(numbers)/len(numbers))\n",
        "print(list(filter(lambda x: True if x >= sum(numbers)/len(numbers) else False, numbers)))\n",
        "print(list(filter(lambda x: True if x >= np.mean(numbers else False, numbers)))\n",
        "print(list(filter(lambda x: True if x >= statistics.mean(numbers) else False, numbers)))"
      ]
    },
    {
      "cell_type": "code",
      "execution_count": null,
      "metadata": {
        "id": "U5BT32CE_Mvr"
      },
      "outputs": [],
      "source": []
    },
    {
      "cell_type": "markdown",
      "metadata": {
        "id": "wh_Bw27v_Mvr"
      },
      "source": [
        "## Recursion <br>\n",
        "<p>Recursion means that a function is calling itself, so it contanstly executes until a base case is reached. It will then push the returning values back up the chain until the function is complete. A prime example of recursion is computing factorials... such that 5! (factorial) is 5*4*3*2*1 which equals 120.</p>"
      ]
    },
    {
      "cell_type": "markdown",
      "metadata": {
        "id": "mB6AfpzO_Mvr"
      },
      "source": [
        "#### Implementing a Base Case"
      ]
    },
    {
      "cell_type": "code",
      "execution_count": 2,
      "metadata": {
        "id": "_Q3YQH6d_Mvr"
      },
      "outputs": [
        {
          "name": "stdout",
          "output_type": "stream",
          "text": [
            "add_nums(5) = 5 + add_nums(4)\n",
            "add_nums(4) = 4 + add_nums(3)\n",
            "add_nums(3) = 3 + add_nums(2)\n",
            "add_nums(2) = 2 + add_nums(1)\n",
            "add_nums(1) = 1\n"
          ]
        },
        {
          "data": {
            "text/plain": [
              "15"
            ]
          },
          "execution_count": 2,
          "metadata": {},
          "output_type": "execute_result"
        }
      ],
      "source": [
        "def add_nums(num):\n",
        "    # Set a base case to stop recursion from going for forever!!!\n",
        "    if num <= 1:\n",
        "        print('add_nums(1) = 1')\n",
        "        return num\n",
        "    else:\n",
        "        print(f'add_nums({num}) = {num} + add_nums({num - 1})')\n",
        "    return num + add_nums(num-1)\n",
        "\n",
        "add_nums(5)"
      ]
    },
    {
      "cell_type": "markdown",
      "metadata": {
        "id": "1DdB7n2q_Mvr"
      },
      "source": [
        "#### Writing a Factorial Function"
      ]
    },
    {
      "cell_type": "code",
      "execution_count": 4,
      "metadata": {
        "id": "LED-YD8u_Mvr"
      },
      "outputs": [
        {
          "data": {
            "text/plain": [
              "120"
            ]
          },
          "execution_count": 4,
          "metadata": {},
          "output_type": "execute_result"
        }
      ],
      "source": [
        "# 5! = 5 * 4 * 3 * 2 * 1\n",
        "def factorial(num):\n",
        "    if num <= 1:\n",
        "        return 1\n",
        "    else:\n",
        "        return num * factorial(num-1)\n",
        "\n",
        "factorial(5)"
      ]
    },
    {
      "attachments": {},
      "cell_type": "markdown",
      "metadata": {
        "id": "gdifMekI_Mvs"
      },
      "source": [
        "#### In-Class Exercise #4 <br>\n",
        "<p>Write a recursive function that subtracts all numbers to the argument given.</p>"
      ]
    },
    {
      "cell_type": "code",
      "execution_count": 2,
      "metadata": {
        "id": "-CjqAPyA_Mvs"
      },
      "outputs": [
        {
          "ename": "TypeError",
          "evalue": "sub() missing 1 required positional argument: 'num'",
          "output_type": "error",
          "traceback": [
            "\u001b[1;31m---------------------------------------------------------------------------\u001b[0m",
            "\u001b[1;31mTypeError\u001b[0m                                 Traceback (most recent call last)",
            "Cell \u001b[1;32mIn[2], line 8\u001b[0m\n\u001b[0;32m      5\u001b[0m         \u001b[39mprint\u001b[39m(\u001b[39mf\u001b[39m\u001b[39m'\u001b[39m\u001b[39msub(\u001b[39m\u001b[39m{\u001b[39;00mnum\u001b[39m}\u001b[39;00m\u001b[39m) = \u001b[39m\u001b[39m{\u001b[39;00mnum\u001b[39m}\u001b[39;00m\u001b[39m - sub(\u001b[39m\u001b[39m{\u001b[39;00mnum\u001b[39m-\u001b[39m\u001b[39m1\u001b[39m\u001b[39m}\u001b[39;00m\u001b[39m)\u001b[39m\u001b[39m'\u001b[39m)\n\u001b[0;32m      6\u001b[0m     \u001b[39mreturn\u001b[39;00m num \u001b[39m-\u001b[39m sub (num\u001b[39m-\u001b[39m\u001b[39m1\u001b[39m)\n\u001b[1;32m----> 8\u001b[0m sub()\n",
            "\u001b[1;31mTypeError\u001b[0m: sub() missing 1 required positional argument: 'num'"
          ]
        }
      ],
      "source": [
        "def sub(num1, num2):\n",
        "    #Base case\n",
        "    if num2 == 0 :\n",
        "        return num1\n",
        "    else:\n",
        "        print(num1, num2)\n",
        "        return sub(num1-1, num2-1)\n",
        "\n",
        "sub(25,5)"
      ]
    },
    {
      "cell_type": "markdown",
      "metadata": {
        "id": "6JL8oSYM_Mvs"
      },
      "source": [
        "## Generators <br>\n",
        "<p>Generators are a type of iterable, like lists or tuples. They do not allow indexing, but they can still be iterated through with for loops. They are created using functions and the yield statement.</p>"
      ]
    },
    {
      "cell_type": "markdown",
      "metadata": {
        "id": "FWfVp4Wi_Mvs"
      },
      "source": [
        "#### Yield Keyword <br>\n",
        "<p>The yield keyword denotes a generator, it doesn't return so it won't leave the function and reset all variables in the function scope, instead it yields the number back to the caller.</p>"
      ]
    },
    {
      "cell_type": "code",
      "execution_count": 6,
      "metadata": {
        "id": "JVQbI32I_Mvs"
      },
      "outputs": [
        {
          "name": "stdout",
          "output_type": "stream",
          "text": [
            "0\n",
            "1\n",
            "2\n",
            "3\n",
            "4\n",
            "0\n",
            "2\n",
            "4\n",
            "6\n",
            "8\n",
            "[0, 2, 4, 6, 8]\n"
          ]
        }
      ],
      "source": [
        "def my_range(stop,start=0, step=2):\n",
        "    while start < stop:\n",
        "        yield start #yield means generator, it won't return anything\n",
        "        start += step\n",
        "        \n",
        "for i in my_range(10):\n",
        "    print(i)\n",
        "print([i for i in my_range(10)])"
      ]
    },
    {
      "attachments": {},
      "cell_type": "markdown",
      "metadata": {
        "id": "gybASoTd_Mvt"
      },
      "source": [
        "#### In-Class Exercise #5 <br>\n",
        "<p>Create a generator that takes a number argument and yields that number squared, then prints each number squared until zero is reached.</p>"
      ]
    },
    {
      "cell_type": "code",
      "execution_count": 13,
      "metadata": {
        "id": "VlLNzwSO_Mvt"
      },
      "outputs": [
        {
          "data": {
            "text/plain": [
              "[25, 16, 9, 4, 1]"
            ]
          },
          "execution_count": 13,
          "metadata": {},
          "output_type": "execute_result"
        }
      ],
      "source": [
        "def squared_nums(num):\n",
        "    while num > 0:\n",
        "        yield num**2\n",
        "        num -=1\n",
        "\n",
        "[i for i in squared_nums(5)]"
      ]
    },
    {
      "cell_type": "markdown",
      "metadata": {
        "id": "99N2jCkG_Mvt"
      },
      "source": [
        "# Exercises"
      ]
    },
    {
      "cell_type": "markdown",
      "metadata": {
        "id": "ozx5y6j2_Mvt"
      },
      "source": [
        "### Exercise #1 <br>\n",
        "<p>Filter out all of the empty strings from the list below</p>\n",
        "\n",
        "`Output: ['Argentina', 'San Diego', 'Boston', 'New York']`"
      ]
    },
    {
      "cell_type": "code",
      "execution_count": 18,
      "metadata": {
        "id": "mJ7BY64n_Mvt"
      },
      "outputs": [
        {
          "name": "stdout",
          "output_type": "stream",
          "text": [
            "['Argentina', 'San Diego', 'Boston', 'New York']\n"
          ]
        }
      ],
      "source": [
        "places = [\" \",\"Argentina\", \" \", \"San Diego\",\"\",\"  \",\"\",\"Boston\",\"New York\"]\n",
        "\n",
        "filtered_list = filter(lambda x: x.strip() != '', places)\n",
        "new_list = list(filtered_list)\n",
        "\n",
        "print(new_list)\n"
      ]
    },
    {
      "cell_type": "markdown",
      "metadata": {
        "id": "DrAfmmXo_Mvu"
      },
      "source": [
        "### Exercise #2 <br>\n",
        "<p>Write an anonymous function that sorts this list by the last name...<br><b>Hint: Use the \".sort()\" method and access the key\"</b></p>\n",
        "\n",
        "`Output: ['Victor aNisimov', 'Gary A.J. Bernstein', 'Joel Carter', 'Andrew P. Garfield', 'David hassELHOFF']`"
      ]
    },
    {
      "cell_type": "code",
      "execution_count": 24,
      "metadata": {
        "id": "Pw5O-x_N_Mvu"
      },
      "outputs": [
        {
          "name": "stdout",
          "output_type": "stream",
          "text": [
            "['Victor aNisimov', 'Gary A.J. Bernstein', 'Joel Carter', 'Andrew P. Garfield', 'David hassELHOFF']\n"
          ]
        }
      ],
      "source": [
        "author = [\"Joel Carter\", \"Victor aNisimov\", \"Andrew P. Garfield\",\"David hassELHOFF\",\"Gary A.J. Bernstein\"]\n",
        "\n",
        "author.sort(key=lambda x: x.split()[-1].lower())\n",
        "\n",
        "print(author)"
      ]
    },
    {
      "cell_type": "markdown",
      "metadata": {
        "id": "M_fIpVQg_Mvu"
      },
      "source": [
        "### Exercise #3 <br>\n",
        "<p>Convert the list below from Celsius to Farhenheit, using the map function with a lambda...</p>\n",
        "\n",
        "`Output: [('Nashua', 89.6), ('Boston', 53.6), ('Los Angelos', 111.2), ('Miami', 84.2)]\n",
        "`"
      ]
    },
    {
      "cell_type": "code",
      "execution_count": 32,
      "metadata": {
        "id": "8Ro4CSOD_Mvu"
      },
      "outputs": [
        {
          "name": "stdout",
          "output_type": "stream",
          "text": [
            "[('Nashua', 89.6), ('Boston', 53.6), ('Los Angelos', 111.2), ('Miami', 84.2)]\n"
          ]
        }
      ],
      "source": [
        "# F = (9/5)*C + 32\n",
        "places_celcius = [('Nashua',32),(\"Boston\",12),(\"Los Angelos\",44),(\"Miami\",29)]\n",
        "places_fahrenheit = list(map(lambda places_temp: (places_temp[0], (9/5) * places_temp[1] + 32), places_celcius))\n",
        "print(places_fahrenheit)"
      ]
    },
    {
      "cell_type": "markdown",
      "metadata": {
        "id": "uoQyjMFz_Mvv"
      },
      "source": [
        "### Exercise #4 <br>\n",
        "<p>Write a recursion function to perform the fibonacci sequence up to the number passed in.</p>\n",
        "\n",
        "`Output for fib(5) => \n",
        "Iteration 0: 1\n",
        "Iteration 1: 1\n",
        "Iteration 2: 2\n",
        "Iteration 3: 3\n",
        "Iteration 4: 5\n",
        "Iteration 5: 8`"
      ]
    },
    {
      "cell_type": "code",
      "execution_count": 34,
      "metadata": {
        "id": "4WlF3yVZ_Mvv",
        "scrolled": true
      },
      "outputs": [
        {
          "name": "stdout",
          "output_type": "stream",
          "text": [
            "Iteration 0: 1\n",
            "Iteration 1: 1\n",
            "Iteration 2: 2\n",
            "Iteration 3: 3\n",
            "Iteration 4: 5\n"
          ]
        }
      ],
      "source": [
        "def fib(n, iteration=0, result=None):\n",
        "    if result is None:\n",
        "        result = []\n",
        "\n",
        "    if iteration <= n:\n",
        "        if iteration == 0 or iteration == 1:\n",
        "            value = 1\n",
        "        else:\n",
        "            value = result[-1] + result[-2]\n",
        "\n",
        "        result.append(value)\n",
        "        print(f'Iteration {iteration}: {value}')\n",
        "        fib(n, iteration + 1, result)\n",
        "\n",
        "fib(4)"
      ]
    }
  ],
  "metadata": {
    "colab": {
      "provenance": []
    },
    "kernelspec": {
      "display_name": "Python 3",
      "language": "python",
      "name": "python3"
    },
    "language_info": {
      "codemirror_mode": {
        "name": "ipython",
        "version": 3
      },
      "file_extension": ".py",
      "mimetype": "text/x-python",
      "name": "python",
      "nbconvert_exporter": "python",
      "pygments_lexer": "ipython3",
      "version": "3.11.2"
    },
    "vscode": {
      "interpreter": {
        "hash": "26de051ba29f2982a8de78e945f0abaf191376122a1563185a90213a26c5da77"
      }
    }
  },
  "nbformat": 4,
  "nbformat_minor": 0
}
